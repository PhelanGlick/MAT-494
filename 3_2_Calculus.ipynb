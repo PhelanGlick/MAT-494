{
  "nbformat": 4,
  "nbformat_minor": 0,
  "metadata": {
    "colab": {
      "name": "3.2 Calculus.ipynb",
      "provenance": [],
      "collapsed_sections": [],
      "authorship_tag": "ABX9TyP7Iec5zGQFCw8dr+Op3WGk",
      "include_colab_link": true
    },
    "kernelspec": {
      "name": "python3",
      "display_name": "Python 3"
    },
    "language_info": {
      "name": "python"
    }
  },
  "cells": [
    {
      "cell_type": "markdown",
      "metadata": {
        "id": "view-in-github",
        "colab_type": "text"
      },
      "source": [
        "<a href=\"https://colab.research.google.com/github/PhelanGlick/MAT-494/blob/main/3_2_Calculus.ipynb\" target=\"_parent\"><img src=\"https://colab.research.google.com/assets/colab-badge.svg\" alt=\"Open In Colab\"/></a>"
      ]
    },
    {
      "cell_type": "markdown",
      "metadata": {
        "id": "QrliHqjs9tLM"
      },
      "source": [
        "Using Python to do simple calculus"
      ]
    },
    {
      "cell_type": "code",
      "metadata": {
        "id": "vw78veSR5-9T"
      },
      "source": [
        "import numpy as np\n",
        "import pandas as pd\n",
        "import matplotlib.pyplot as plt\n",
        "import sympy as sym"
      ],
      "execution_count": 89,
      "outputs": []
    },
    {
      "cell_type": "markdown",
      "metadata": {
        "id": "khPzE7z6-GRA"
      },
      "source": [
        "Python can find the limits of functions."
      ]
    },
    {
      "cell_type": "code",
      "metadata": {
        "colab": {
          "base_uri": "https://localhost:8080/"
        },
        "id": "aYzaxDUkrVRr",
        "outputId": "ebac3d65-a20a-464a-acf4-6b6e7c67a76b"
      },
      "source": [
        "x, y, z = sym.symbols('x, y, z')\n",
        "\n",
        "f = (x**2)/(x)\n",
        "print(sym.limit(f,x,0))\n",
        "\n",
        "g = (sym.exp(x))/(x)\n",
        "print(sym.limit(g,x,0))\n",
        "\n",
        "h = (sym.sin(x)**2)*(sym.cos(x))\n",
        "print(sym.limit(h,x,5))"
      ],
      "execution_count": 115,
      "outputs": [
        {
          "output_type": "stream",
          "name": "stdout",
          "text": [
            "0\n",
            "oo\n",
            "sin(5)**2*cos(5)\n"
          ]
        }
      ]
    },
    {
      "cell_type": "markdown",
      "metadata": {
        "id": "yhm4-6sYrvkR"
      },
      "source": [
        "The double oo seen above is this functions way of saying infinity. Python can also find the derivative of functions. I'm unaware of the limits of its capablilities though."
      ]
    },
    {
      "cell_type": "code",
      "metadata": {
        "colab": {
          "base_uri": "https://localhost:8080/"
        },
        "id": "Rp587KKSs041",
        "outputId": "6c1bfa44-803a-4014-bdb3-da1a951cc927"
      },
      "source": [
        "print('Derivative of f(x): ', sym.diff(f,x))\n",
        "print('Derivative of g(x): ', sym.diff(g,x))\n",
        "print('Derivative of h(x): ', sym.diff(h,x))"
      ],
      "execution_count": 116,
      "outputs": [
        {
          "output_type": "stream",
          "name": "stdout",
          "text": [
            "Derivative of f(x):  1\n",
            "Derivative of g(x):  exp(x)/x - exp(x)/x**2\n",
            "Derivative of h(x):  -sin(x)**3 + 2*sin(x)*cos(x)**2\n"
          ]
        }
      ]
    },
    {
      "cell_type": "markdown",
      "metadata": {
        "id": "ercJY-bNt9yX"
      },
      "source": [
        "Python managed to find the even the derivative of h(x) near instantly. "
      ]
    },
    {
      "cell_type": "markdown",
      "metadata": {
        "id": "RwrzmtSzuork"
      },
      "source": [
        "This can also be used to find partial derivatives."
      ]
    },
    {
      "cell_type": "code",
      "metadata": {
        "colab": {
          "base_uri": "https://localhost:8080/"
        },
        "id": "8k7pZhBVut6o",
        "outputId": "0990e131-2cd9-4aa7-b1a4-202b914093b6"
      },
      "source": [
        "i = (sym.exp(x**2)*y)/z\n",
        "\n",
        "print('Derivative of i(x,y,z) w.r.t.x: ', sym.diff(i,x))\n",
        "print('Derivative of i(x,y,z) w.r.t.y: ', sym.diff(i,y))\n",
        "print('Derivative of i(x,y,z) w.r.t.z: ', sym.diff(i,z))\n",
        "print('Derivative of i(x,y,z) w.r.t.x,y,z: ', sym.diff(i,x,y,z))"
      ],
      "execution_count": 122,
      "outputs": [
        {
          "output_type": "stream",
          "name": "stdout",
          "text": [
            "Derivative of i(x,y,z) w.r.t.x:  2*x*y*exp(x**2)/z\n",
            "Derivative of i(x,y,z) w.r.t.y:  exp(x**2)/z\n",
            "Derivative of i(x,y,z) w.r.t.z:  -y*exp(x**2)/z**2\n",
            "Derivative of i(x,y,z) w.r.t.x,y,z:  -2*x*exp(x**2)/z**2\n"
          ]
        }
      ]
    }
  ]
}