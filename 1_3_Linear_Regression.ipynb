{
  "nbformat": 4,
  "nbformat_minor": 0,
  "metadata": {
    "colab": {
      "name": "1.3 Linear Regression.ipynb",
      "provenance": []
    },
    "kernelspec": {
      "name": "python3",
      "display_name": "Python 3"
    },
    "language_info": {
      "name": "python"
    }
  },
  "cells": [
    {
      "cell_type": "markdown",
      "metadata": {
        "id": "QrliHqjs9tLM"
      },
      "source": [
        "In this file there is some experimentation with using Python's linear regression tools and a QR matrix decomposition."
      ]
    },
    {
      "cell_type": "code",
      "metadata": {
        "id": "vw78veSR5-9T"
      },
      "source": [
        "import numpy as np\n",
        "from sklearn.linear_model import LinearRegression"
      ],
      "execution_count": 1,
      "outputs": []
    },
    {
      "cell_type": "markdown",
      "metadata": {
        "id": "khPzE7z6-GRA"
      },
      "source": [
        "Finding the fit off a random array. Week correlation is expected."
      ]
    },
    {
      "cell_type": "code",
      "metadata": {
        "colab": {
          "base_uri": "https://localhost:8080/"
        },
        "id": "wh5smd2u-yfM",
        "outputId": "303e1997-acbe-4586-f3d0-bfd1bfc5e2fc"
      },
      "source": [
        "x = np.random.rand(100)\n",
        "y = np.random.rand(100)\n",
        "#x and y are 1d, but regression needs 2d inputs. So reshaping them will work.\n",
        "x = x.reshape(-1,1)\n",
        "y = y.reshape(-1,1)\n",
        "\n",
        "model = LinearRegression().fit(x,y)\n",
        "print('Score\\n', model.score(x,y), '\\n\\nCoefficient\\n', model.coef_, '\\n\\nIntercept\\n', model.intercept_)\n",
        "\n",
        "#model.predict(np.array([[6,7]]))"
      ],
      "execution_count": 35,
      "outputs": [
        {
          "output_type": "stream",
          "name": "stdout",
          "text": [
            "Score\n",
            " 0.004198325682363002 \n",
            "\n",
            "Coefficient\n",
            " [[0.0649692]] \n",
            "\n",
            "Intercept\n",
            " [0.45067435]\n"
          ]
        }
      ]
    },
    {
      "cell_type": "markdown",
      "metadata": {
        "id": "Y_BKTfc7Kd6A"
      },
      "source": [
        "And the correlation was weak, as expected. After running it multiple times, it always seems to make the intercept right around 0.5. Lets do this again, but with a real correlation."
      ]
    },
    {
      "cell_type": "code",
      "metadata": {
        "colab": {
          "base_uri": "https://localhost:8080/"
        },
        "id": "k4W77a_GTYiW",
        "outputId": "13b9888c-5052-475b-f9d4-ee3a19aaec89"
      },
      "source": [
        "x = np.zeros(100)\n",
        "y = np.zeros(100)\n",
        "\n",
        "for i in range(100):\n",
        "  x[i] = i\n",
        "  y[i] = i\n",
        "\n",
        "x = x.reshape(-1,1)\n",
        "y = y.reshape(-1,1)\n",
        "\n",
        "model = LinearRegression().fit(x,y)\n",
        "print('Score\\n', model.score(x,y), '\\n\\nCoefficient\\n', model.coef_, '\\n\\nIntercept\\n', model.intercept_)"
      ],
      "execution_count": 36,
      "outputs": [
        {
          "output_type": "stream",
          "name": "stdout",
          "text": [
            "Score\n",
            " 1.0 \n",
            "\n",
            "Coefficient\n",
            " [[1.]] \n",
            "\n",
            "Intercept\n",
            " [-1.42108547e-14]\n"
          ]
        }
      ]
    },
    {
      "cell_type": "markdown",
      "metadata": {
        "id": "GzIsy72TW_5j"
      },
      "source": [
        "As expected, the correlation is strong. The intercept is near zero, which makes sense as when x is 0, we expect y to also be zero."
      ]
    },
    {
      "cell_type": "markdown",
      "metadata": {
        "id": "OT8qFSE3XoBS"
      },
      "source": [
        "The following QR decompostition is the Gram-Schmidt Orthogonalization. I am using code written by proffesor Haiyan Wang from ASU as a guide. Much of the code will match, but some of it will be different. This is working as a test to see if I understand what is happening."
      ]
    },
    {
      "cell_type": "code",
      "metadata": {
        "colab": {
          "base_uri": "https://localhost:8080/"
        },
        "id": "7-TllA-SYamO",
        "outputId": "67d8cee4-d3be-47bd-9543-4233940a9c61"
      },
      "source": [
        "def QR_gram_schmidt(A):\n",
        "  Q = np.zeros(A.shape )\n",
        "  count = 0\n",
        "  for i in A.T:\n",
        "    u = np.copy(i)\n",
        "    for j in range(0, count):\n",
        "      u = u - np.dot(np.dot(Q[:,j].T, i), Q[:,j])\n",
        "    e = u/ np.linalg.norm(u)\n",
        "    Q[:, count] = e\n",
        "    count = count +1\n",
        "  R = np.dot(Q.T, A)\n",
        "  return(Q, R)\n",
        "\n",
        "example = np.array([[1,2],[3,4]], dtype = float)\n",
        "[Q, R] = QR_gram_schmidt(example)\n",
        "print('Q: ', Q, '\\n\\nR: ', R, '\\n\\nQ*R: ', np.dot(Q,R) )"
      ],
      "execution_count": 49,
      "outputs": [
        {
          "output_type": "stream",
          "name": "stdout",
          "text": [
            "Q:  [[ 0.31622777  0.9486833 ]\n",
            " [ 0.9486833  -0.31622777]] \n",
            "\n",
            "R:  [[ 3.16227766e+00  4.42718872e+00]\n",
            " [-1.05471187e-15  6.32455532e-01]] \n",
            "\n",
            "Q*R:  [[1. 2.]\n",
            " [3. 4.]]\n"
          ]
        }
      ]
    },
    {
      "cell_type": "code",
      "metadata": {
        "id": "KdtDD-6rg6BW"
      },
      "source": [
        ""
      ],
      "execution_count": null,
      "outputs": []
    }
  ]
}