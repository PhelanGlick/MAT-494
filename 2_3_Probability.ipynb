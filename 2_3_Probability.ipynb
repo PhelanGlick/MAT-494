{
  "nbformat": 4,
  "nbformat_minor": 0,
  "metadata": {
    "colab": {
      "name": "2.3 Probability.ipynb",
      "provenance": [],
      "collapsed_sections": [],
      "authorship_tag": "ABX9TyOal66nEcYIDrT167L1s0Ua",
      "include_colab_link": true
    },
    "kernelspec": {
      "name": "python3",
      "display_name": "Python 3"
    },
    "language_info": {
      "name": "python"
    }
  },
  "cells": [
    {
      "cell_type": "markdown",
      "metadata": {
        "id": "view-in-github",
        "colab_type": "text"
      },
      "source": [
        "<a href=\"https://colab.research.google.com/github/PhelanGlick/MAT-494/blob/main/2_3_Probability.ipynb\" target=\"_parent\"><img src=\"https://colab.research.google.com/assets/colab-badge.svg\" alt=\"Open In Colab\"/></a>"
      ]
    },
    {
      "cell_type": "markdown",
      "metadata": {
        "id": "QrliHqjs9tLM"
      },
      "source": [
        "We can use python to test conditional probabilities."
      ]
    },
    {
      "cell_type": "code",
      "metadata": {
        "id": "vw78veSR5-9T"
      },
      "source": [
        "import numpy as np\n",
        "import pandas as pd\n",
        "import matplotlib.pyplot as plt\n",
        "import sympy as sym\n",
        "import random"
      ],
      "execution_count": 129,
      "outputs": []
    },
    {
      "cell_type": "markdown",
      "metadata": {
        "id": "khPzE7z6-GRA"
      },
      "source": [
        "For this test, lets use a simple case where there are students who are boys and girls and they chose their favorite animal, cat or dog. The best part is that the only thing that would need to change for this code is the ifrst four variable which are simply the number of people in each category."
      ]
    },
    {
      "cell_type": "code",
      "metadata": {
        "id": "--CA7IsT8AuT"
      },
      "source": [
        "boy_dog = 30\n",
        "boy_cat = 20\n",
        "girl_dog = 23\n",
        "girl_cat = 27\n",
        "\n",
        "tot_boy = boy_dog + boy_cat\n",
        "tot_girl = girl_dog + girl_cat\n",
        "tot_dog = boy_dog + girl_dog\n",
        "tot_cat = boy_cat + girl_cat\n",
        "\n",
        "total = tot_boy + tot_girl\n",
        "\n",
        "per_bd = boy_dog/total\n",
        "per_bc = boy_cat/total\n",
        "per_gd = girl_dog/total\n",
        "per_gc = girl_cat/total"
      ],
      "execution_count": 183,
      "outputs": []
    },
    {
      "cell_type": "markdown",
      "metadata": {
        "id": "UF2FEw9o828r"
      },
      "source": [
        "The above code calculates some of the statitics we will need for conditional probability. Lets create a dataframe to see this in. Since rows cant be labeled, 0 will be boys, 1 girls. This table is also showing the total ratio of said groups."
      ]
    },
    {
      "cell_type": "code",
      "metadata": {
        "colab": {
          "base_uri": "https://localhost:8080/",
          "height": 112
        },
        "id": "HC0V7svS9-Ug",
        "outputId": "bfe4d17b-01ca-4016-cf5a-35c3fed60817"
      },
      "source": [
        "df = pd.DataFrame(np.array([[per_bd,per_bc],[per_gd,per_gc]]),columns=['dog', 'cat'])\n",
        "df"
      ],
      "execution_count": 187,
      "outputs": [
        {
          "output_type": "execute_result",
          "data": {
            "text/html": [
              "<div>\n",
              "<style scoped>\n",
              "    .dataframe tbody tr th:only-of-type {\n",
              "        vertical-align: middle;\n",
              "    }\n",
              "\n",
              "    .dataframe tbody tr th {\n",
              "        vertical-align: top;\n",
              "    }\n",
              "\n",
              "    .dataframe thead th {\n",
              "        text-align: right;\n",
              "    }\n",
              "</style>\n",
              "<table border=\"1\" class=\"dataframe\">\n",
              "  <thead>\n",
              "    <tr style=\"text-align: right;\">\n",
              "      <th></th>\n",
              "      <th>dog</th>\n",
              "      <th>cat</th>\n",
              "    </tr>\n",
              "  </thead>\n",
              "  <tbody>\n",
              "    <tr>\n",
              "      <th>0</th>\n",
              "      <td>0.30</td>\n",
              "      <td>0.20</td>\n",
              "    </tr>\n",
              "    <tr>\n",
              "      <th>1</th>\n",
              "      <td>0.23</td>\n",
              "      <td>0.27</td>\n",
              "    </tr>\n",
              "  </tbody>\n",
              "</table>\n",
              "</div>"
            ],
            "text/plain": [
              "    dog   cat\n",
              "0  0.30  0.20\n",
              "1  0.23  0.27"
            ]
          },
          "metadata": {},
          "execution_count": 187
        }
      ]
    },
    {
      "cell_type": "markdown",
      "metadata": {
        "id": "Nts1bupP_cOV"
      },
      "source": [
        "Now lets do the find the probabilities, including the conditional ones"
      ]
    },
    {
      "cell_type": "code",
      "metadata": {
        "colab": {
          "base_uri": "https://localhost:8080/"
        },
        "id": "1m7LBpEm_0C8",
        "outputId": "22dccecd-0dd8-4bd8-8bd1-6278dbaac2c8"
      },
      "source": [
        "p_dog = per_bd+per_gd\n",
        "p_cat = per_bc+per_gc\n",
        "p_boy = per_bd+per_bc\n",
        "p_girl = per_gd+per_gc\n",
        "\n",
        "print('P(dog): ', p_dog)\n",
        "print('P(cat): ', p_cat)\n",
        "print('P(boy): ', p_boy)\n",
        "print('P(girl): ', p_girl)\n",
        "\n",
        "print('P(dog | boy): ', per_bd/p_boy)\n",
        "print('P(dog | girl): ', per_gd/p_girl)\n",
        "print('P(cat | boy): ', per_bc/p_boy)\n",
        "print('P(cat | girl): ', per_gc/p_girl)\n",
        "print('P(boy | dog): ', per_bd/p_dog)\n",
        "print('P(boy | cat): ', per_bc/p_cat)\n",
        "print('P(girl | dog): ', per_gd/p_dog)\n",
        "print('P(girl | cat): ', per_gc/p_cat)"
      ],
      "execution_count": 188,
      "outputs": [
        {
          "output_type": "stream",
          "name": "stdout",
          "text": [
            "P(dog):  0.53\n",
            "P(cat):  0.47000000000000003\n",
            "P(boy):  0.5\n",
            "P(girl):  0.5\n",
            "P(dog | boy):  0.6\n",
            "P(dog | girl):  0.46\n",
            "P(cat | boy):  0.4\n",
            "P(cat | girl):  0.54\n",
            "P(boy | dog):  0.5660377358490566\n",
            "P(boy | cat):  0.425531914893617\n",
            "P(girl | dog):  0.4339622641509434\n",
            "P(girl | cat):  0.574468085106383\n"
          ]
        }
      ]
    }
  ]
}