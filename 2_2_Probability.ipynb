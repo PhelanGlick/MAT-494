{
  "nbformat": 4,
  "nbformat_minor": 0,
  "metadata": {
    "colab": {
      "name": "2.2 Probability.ipynb",
      "provenance": [],
      "collapsed_sections": [],
      "authorship_tag": "ABX9TyOBExWKg2kEkTydMjmqqZMa",
      "include_colab_link": true
    },
    "kernelspec": {
      "name": "python3",
      "display_name": "Python 3"
    },
    "language_info": {
      "name": "python"
    }
  },
  "cells": [
    {
      "cell_type": "markdown",
      "metadata": {
        "id": "view-in-github",
        "colab_type": "text"
      },
      "source": [
        "<a href=\"https://colab.research.google.com/github/PhelanGlick/MAT-494/blob/main/2_2_Probability.ipynb\" target=\"_parent\"><img src=\"https://colab.research.google.com/assets/colab-badge.svg\" alt=\"Open In Colab\"/></a>"
      ]
    },
    {
      "cell_type": "markdown",
      "metadata": {
        "id": "QrliHqjs9tLM"
      },
      "source": [
        "Here are some examples of statistical distributions."
      ]
    },
    {
      "cell_type": "code",
      "metadata": {
        "id": "vw78veSR5-9T"
      },
      "source": [
        "import numpy as np\n",
        "import pandas as pd\n",
        "import matplotlib.pyplot as plt\n",
        "from scipy.stats import poisson\n",
        "from scipy.stats import binom"
      ],
      "execution_count": 55,
      "outputs": []
    },
    {
      "cell_type": "markdown",
      "metadata": {
        "id": "khPzE7z6-GRA"
      },
      "source": [
        "A poisson distribution is one where the variable is how many attempts it takes for a condition to happen. For example, how many coin tosses until you gets heads. The details of this function can be found here https://docs.scipy.org/doc/scipy/reference/generated/scipy.stats.poisson.html "
      ]
    },
    {
      "cell_type": "code",
      "metadata": {
        "colab": {
          "base_uri": "https://localhost:8080/",
          "height": 333
        },
        "id": "RimJ0cpfg1xZ",
        "outputId": "d64ad5e8-e192-45d0-9b8b-abd36c006ffa"
      },
      "source": [
        "mu = .5\n",
        "fig, ax = plt.subplots(1, 3)\n",
        "x = np.arange(poisson.ppf(0.01, mu),poisson.ppf(0.99, mu))\n",
        "\n",
        "rv = poisson(mu)\n",
        "ax[0].vlines(x, 0, rv.pmf(x), colors='k', linestyles='-', lw=1)\n",
        "ax[0].legend(loc='best', frameon=False)\n",
        "ax[0].set_title(\"mu=.5\")\n",
        "\n",
        "mu = .3\n",
        "rv = poisson(mu)\n",
        "ax[1].vlines(x, 0, rv.pmf(x), colors='k', linestyles='-', lw=1)\n",
        "ax[1].legend(loc='best', frameon=False)\n",
        "ax[1].set_title(\"mu=.3\")\n",
        "\n",
        "mu = .8\n",
        "rv = poisson(mu)\n",
        "ax[2].vlines(x, 0, rv.pmf(x), colors='k', linestyles='-', lw=1)\n",
        "ax[2].legend(loc='best', frameon=False)\n",
        "ax[2].set_title(\"mu=.8\")\n",
        "\n",
        "plt.show()"
      ],
      "execution_count": 87,
      "outputs": [
        {
          "output_type": "stream",
          "name": "stderr",
          "text": [
            "No handles with labels found to put in legend.\n",
            "No handles with labels found to put in legend.\n",
            "No handles with labels found to put in legend.\n"
          ]
        },
        {
          "output_type": "display_data",
          "data": {
            "image/png": "[encoded data removed]",
            "text/plain": [
              "<Figure size 432x288 with 3 Axes>"
            ]
          },
          "metadata": {
            "needs_background": "light"
          }
        }
      ]
    },
    {
      "cell_type": "markdown",
      "metadata": {
        "id": "6UZdlbPLjIkz"
      },
      "source": [
        "Lets do the same thing, but for binomial. The variable for binomial functions is the result of some event. "
      ]
    },
    {
      "cell_type": "code",
      "metadata": {
        "colab": {
          "base_uri": "https://localhost:8080/",
          "height": 281
        },
        "id": "5feKuxjMjeJM",
        "outputId": "9d743b53-357c-427c-e9be-5bba58a2b10b"
      },
      "source": [
        "n, p = 5, 0.4\n",
        "mean, var, skew, kurt = binom.stats(n, p, moments='mvsk')\n",
        "fig, ax = plt.subplots(1, 3)\n",
        "\n",
        "x = np.arange(binom.ppf(0.01, n, p),binom.ppf(0.99, n, p))\n",
        "ax[0].plot(x, binom.pmf(x, n, p), 'bo', ms=8, label='binom pmf')\n",
        "ax[0].vlines(x, 0, binom.pmf(x, n, p), colors='b', lw=5, alpha=0.5)\n",
        "ax[0].set_title(\"n=5, p=.4\")\n",
        "\n",
        "n,p = 6, .4\n",
        "x = np.arange(binom.ppf(0.01, n, p),binom.ppf(0.99, n, p))\n",
        "ax[1].plot(x, binom.pmf(x, n, p), 'bo', ms=8, label='binom pmf')\n",
        "ax[1].vlines(x, 0, binom.pmf(x, n, p), colors='b', lw=5, alpha=0.5)\n",
        "ax[1].set_title(\"n=6, p=.4\")\n",
        "\n",
        "n,p = 5, .6\n",
        "x = np.arange(binom.ppf(0.01, n, p),binom.ppf(0.99, n, p))\n",
        "ax[2].plot(x, binom.pmf(x, n, p), 'bo', ms=8, label='binom pmf')\n",
        "ax[2].vlines(x, 0, binom.pmf(x, n, p), colors='b', lw=5, alpha=0.5)\n",
        "ax[2].set_title(\"n=5, p=.6\")\n",
        "\n",
        "plt.show()"
      ],
      "execution_count": 82,
      "outputs": [
        {
          "output_type": "display_data",
          "data": {
            "image/png": "[encoded data removed]",
            "text/plain": [
              "<Figure size 432x288 with 3 Axes>"
            ]
          },
          "metadata": {
            "needs_background": "light"
          }
        }
      ]
    },
    {
      "cell_type": "markdown",
      "metadata": {
        "id": "MrTDqtbNm3Zo"
      },
      "source": [
        "Multiple binomials where n and p change. "
      ]
    }
  ]
}