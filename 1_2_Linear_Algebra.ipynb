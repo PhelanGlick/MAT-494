{
  "nbformat": 4,
  "nbformat_minor": 0,
  "metadata": {
    "colab": {
      "name": "1.2 Linear Algebra.ipynb",
      "provenance": [],
      "collapsed_sections": []
    },
    "kernelspec": {
      "name": "python3",
      "display_name": "Python 3"
    },
    "language_info": {
      "name": "python"
    }
  },
  "cells": [
    {
      "cell_type": "markdown",
      "metadata": {
        "id": "yp2nRdhuHmTY"
      },
      "source": [
        "The following works as a review for myself into Linear Algebra and Python. I have more experience with R than python, but the two are fairly similar. Later entries will be more involved."
      ]
    },
    {
      "cell_type": "markdown",
      "metadata": {
        "id": "TzjxUl44ZsGB"
      },
      "source": [
        "Finding Eigen values and vectors using built in functions"
      ]
    },
    {
      "cell_type": "code",
      "metadata": {
        "colab": {
          "base_uri": "https://localhost:8080/"
        },
        "id": "4N7uUEZwHIsW",
        "outputId": "19d35478-eb20-4bb4-a17b-b50028b3f1e4"
      },
      "source": [
        "from scipy import linalg\n",
        "import numpy as np\n",
        "\n",
        "a = np.eye(3) *5\n",
        "b = np.zeros((3,3))\n",
        "for i in range(3):\n",
        "  for j in range(3):\n",
        "    b[i,j] = (i+1)*(j+1)\n",
        "print('a=\\n',a,'\\n\\n','b=\\n',b)\n",
        "\n",
        "eigval, eigvec, = np.linalg.eig(a)\n",
        "print('\\n\\n','eigenvalue of a=\\n',eigval,'\\n\\n','eigenvector of a=\\n',eigvec)\n",
        "\n",
        "eigval, eigvec, = np.linalg.eig(b)\n",
        "print('\\n\\n','eigenvalue of b=\\n',eigval,'\\n\\n','eigenvector of b=\\n',eigvec)"
      ],
      "execution_count": null,
      "outputs": [
        {
          "output_type": "stream",
          "text": [
            "a=\n",
            " [[5. 0. 0.]\n",
            " [0. 5. 0.]\n",
            " [0. 0. 5.]] \n",
            "\n",
            " b=\n",
            " [[1. 2. 3.]\n",
            " [2. 4. 6.]\n",
            " [3. 6. 9.]]\n",
            "\n",
            "\n",
            " eigenvalue of a=\n",
            " [5. 5. 5.] \n",
            "\n",
            " eigenvector of a=\n",
            " [[1. 0. 0.]\n",
            " [0. 1. 0.]\n",
            " [0. 0. 1.]]\n",
            "\n",
            "\n",
            " eigenvalue of b=\n",
            " [ 1.40000000e+01  2.58591657e-16 -5.28378741e-16] \n",
            "\n",
            " eigenvector of b=\n",
            " [[ 0.26726124 -0.10729925  0.80696533]\n",
            " [ 0.53452248 -0.81036844 -0.57890429]\n",
            " [ 0.80178373  0.57601204  0.11694775]]\n"
          ],
          "name": "stdout"
        }
      ]
    },
    {
      "cell_type": "markdown",
      "metadata": {
        "id": "V1slW1TGZzrs"
      },
      "source": [
        "Finding determinant of a matrix"
      ]
    },
    {
      "cell_type": "code",
      "metadata": {
        "colab": {
          "base_uri": "https://localhost:8080/"
        },
        "id": "P5X82tsGKOZi",
        "outputId": "bb2b5d4a-07af-4ce4-e654-7984471c3bb0"
      },
      "source": [
        "print('b=\\n',b, '\\n\\n', 'determinant of b=\\n',np.linalg.det(b) ) #using b again from ealier"
      ],
      "execution_count": null,
      "outputs": [
        {
          "output_type": "stream",
          "text": [
            "b=\n",
            " [[1. 2. 3.]\n",
            " [2. 4. 6.]\n",
            " [3. 6. 9.]] \n",
            "\n",
            " determinant of b=\n",
            " 0.0\n"
          ],
          "name": "stdout"
        }
      ]
    },
    {
      "cell_type": "markdown",
      "metadata": {
        "id": "2XUHwwA-ZQ6R"
      },
      "source": [
        "Lets see if pythons built in function can solve this matrix"
      ]
    },
    {
      "cell_type": "code",
      "metadata": {
        "colab": {
          "base_uri": "https://localhost:8080/"
        },
        "id": "xCZ-c2_PPAhB",
        "outputId": "5dd04c12-157f-4368-9183-ee38a5be5d12"
      },
      "source": [
        "k = [[1],[2],[3]]\n",
        "try:\n",
        "  ans = np.linalg.solve(b,k)\n",
        "  print(ans)\n",
        "except Exception as e:\n",
        "  print(e)"
      ],
      "execution_count": null,
      "outputs": [
        {
          "output_type": "stream",
          "text": [
            "Singular matrix\n"
          ],
          "name": "stdout"
        }
      ]
    },
    {
      "cell_type": "markdown",
      "metadata": {
        "id": "IAOfmCGJccZ8"
      },
      "source": [
        "The built in functions fails if you give it a singular matrix, definetely good to know for the future. Lets try solving it again with a non-singular matrix"
      ]
    },
    {
      "cell_type": "code",
      "metadata": {
        "colab": {
          "base_uri": "https://localhost:8080/"
        },
        "id": "xDo5keOyc-7C",
        "outputId": "1f9affa5-b90c-403f-ea26-f0c91ae7b03b"
      },
      "source": [
        "d = [ [1,0,-2], [-1,1,4], [2,1,2] ]\n",
        "print('d=\\n',d,'\\n\\ndeterminant of d=',np.linalg.det(d),'\\n\\n')\n",
        "\n",
        "try:\n",
        "  d_ans = np.linalg.solve(d,k) #using k from before\n",
        "  print(d_ans)\n",
        "except Exception as e:\n",
        "  print(e)"
      ],
      "execution_count": null,
      "outputs": [
        {
          "output_type": "stream",
          "text": [
            "d=\n",
            " [[1, 0, -2], [-1, 1, 4], [2, 1, 2]] \n",
            "\n",
            "determinant of d= 4.0 \n",
            "\n",
            "\n",
            "[[ 0. ]\n",
            " [ 4. ]\n",
            " [-0.5]]\n"
          ],
          "name": "stdout"
        }
      ]
    }
  ]
}